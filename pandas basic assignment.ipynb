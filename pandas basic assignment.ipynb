{
 "cells": [
  {
   "cell_type": "code",
   "execution_count": 3,
   "id": "2e1ffff2-c6c1-42d6-af08-b39031ed92f6",
   "metadata": {},
   "outputs": [
    {
     "name": "stdout",
     "output_type": "stream",
     "text": [
      "0     4\n",
      "1     8\n",
      "2    15\n",
      "3    16\n",
      "dtype: int64\n"
     ]
    }
   ],
   "source": [
    "#Q1. Create a Pandas Series that contains the following data: 4, 8, 15, 16, 23, and 42. Then, print the series.\n",
    "# import pandas as pd\n",
    "import pandas as pd\n",
    "\n",
    "# Creating  series\n",
    "ser = pd.Series([4,8,15,16])\n",
    "\n",
    "print(ser)"
   ]
  },
  {
   "cell_type": "code",
   "execution_count": 4,
   "id": "396b737e-889e-42bb-a3d6-1ce20e5e6dc5",
   "metadata": {},
   "outputs": [
    {
     "name": "stdout",
     "output_type": "stream",
     "text": [
      "0         1\n",
      "1         2\n",
      "2         3\n",
      "3         4\n",
      "4         5\n",
      "5         6\n",
      "6         7\n",
      "7         8\n",
      "8         9\n",
      "9    end=10\n",
      "dtype: object\n"
     ]
    }
   ],
   "source": [
    "#Q2. Create a variable of list type containing 10 elements in it, and apply pandas.Series function on the\n",
    "#variable print it.\n",
    "\n",
    "#we are already imported pandas lib as pd in above so use that \n",
    "#to create series\n",
    "#creating series which is stored in x\n",
    "x = pd.Series([1,2,3,4,5,6,7,8,9,'end=10'])\n",
    "print(x)"
   ]
  },
  {
   "cell_type": "code",
   "execution_count": 5,
   "id": "6e00155c-b4f1-4e2d-ba70-ab7a918d7480",
   "metadata": {},
   "outputs": [
    {
     "name": "stdout",
     "output_type": "stream",
     "text": [
      "     Name  Age  Gender\n",
      "0   Alice   25  Female\n",
      "1     Bob   30    male\n",
      "2  Claire   27  Female\n"
     ]
    }
   ],
   "source": [
    "#Q3. Create a Pandas DataFrame that contains the following data:\n",
    "#Then, print the DataFrame.\n",
    "\n",
    "#importing pandas lib as pd\n",
    "import pandas as pd\n",
    "#creating  data frame using dictionary \n",
    "df = pd.DataFrame({'Name':['Alice','Bob','Claire'],\n",
    "                   'Age':[25,30,27],\n",
    "                   'Gender':['Female','male','Female']})\n",
    "#printing dataframe\n",
    "print(df)"
   ]
  },
  {
   "cell_type": "raw",
   "id": "5dc0ec4e-7320-4b7c-ba98-a608c762fa64",
   "metadata": {},
   "source": [
    "Q4. What is ‘DataFrame’ in pandas and how is it different from pandas.series? Explain with an example.\n",
    "\n",
    " DataFrames have multiple coloumns while series have single column\n",
    "\n",
    "that means, dataframe can store more complex and hetrogeneous data.\n",
    "\n",
    "series can store simple and homogeneous data.\n",
    "\n",
    " Another difference is dataframes have different datatypes in eachcolumn\n",
    "\n",
    "while , series have only one datatype.\n",
    "\n",
    "i.e., dataframe can handle mixed data types while serie scan handle only one datatype."
   ]
  },
  {
   "cell_type": "markdown",
   "id": "45c8a753-d103-4562-a6ae-c1980b3b9e83",
   "metadata": {},
   "source": [
    " Q5. What are some common functions you can use to manipulate data in a Pandas DataFrame? Can\n",
    "you give an example of when you might use one of these functions?\n",
    " \n",
    " Pandas read_csv() Function: This function is used to retrieve data from CSV \n",
    "\n",
    "files in the form of a dataframe.\n",
    "\n",
    "Pandas head() Function:  This function is used to return the top n (5 by \n",
    "\n",
    "default) values of a data frame or series.\n",
    "\n",
    "Pandas tail() Function:This method is used to return the bottom n (5 by \n",
    "\n",
    "default) rows of a data frame or series.\n",
    "\n",
    "Pandas dtypes() Function: This method returns a Series with the data type of \n",
    "\n",
    "each column.\n",
    "\n",
    "these are the some basic functions in pandas "
   ]
  },
  {
   "cell_type": "code",
   "execution_count": 9,
   "id": "f73ecd5d-4b99-4490-946a-5f13c991502d",
   "metadata": {},
   "outputs": [
    {
     "data": {
      "text/html": [
       "<div>\n",
       "<style scoped>\n",
       "    .dataframe tbody tr th:only-of-type {\n",
       "        vertical-align: middle;\n",
       "    }\n",
       "\n",
       "    .dataframe tbody tr th {\n",
       "        vertical-align: top;\n",
       "    }\n",
       "\n",
       "    .dataframe thead th {\n",
       "        text-align: right;\n",
       "    }\n",
       "</style>\n",
       "<table border=\"1\" class=\"dataframe\">\n",
       "  <thead>\n",
       "    <tr style=\"text-align: right;\">\n",
       "      <th></th>\n",
       "      <th>Name</th>\n",
       "      <th>Age</th>\n",
       "      <th>Gender</th>\n",
       "    </tr>\n",
       "  </thead>\n",
       "  <tbody>\n",
       "    <tr>\n",
       "      <th>0</th>\n",
       "      <td>Alice</td>\n",
       "      <td>25</td>\n",
       "      <td>Female</td>\n",
       "    </tr>\n",
       "  </tbody>\n",
       "</table>\n",
       "</div>"
      ],
      "text/plain": [
       "    Name  Age  Gender\n",
       "0  Alice   25  Female"
      ]
     },
     "execution_count": 9,
     "metadata": {},
     "output_type": "execute_result"
    }
   ],
   "source": [
    "#example\n",
    "#examples\n",
    "#importing pandas lib as pd\n",
    "import pandas as pd\n",
    "#creating  data frame using dictionary \n",
    "df = pd.DataFrame({'Name':['Alice','Bob','Claire'],\n",
    "                   'Age':[25,30,27],\n",
    "                   'Gender':['Female','male','Female']})\n",
    "df.head(1)"
   ]
  },
  {
   "cell_type": "code",
   "execution_count": 7,
   "id": "9bdefe6c-b953-4954-bf03-deead87c9f2e",
   "metadata": {},
   "outputs": [
    {
     "data": {
      "text/html": [
       "<div>\n",
       "<style scoped>\n",
       "    .dataframe tbody tr th:only-of-type {\n",
       "        vertical-align: middle;\n",
       "    }\n",
       "\n",
       "    .dataframe tbody tr th {\n",
       "        vertical-align: top;\n",
       "    }\n",
       "\n",
       "    .dataframe thead th {\n",
       "        text-align: right;\n",
       "    }\n",
       "</style>\n",
       "<table border=\"1\" class=\"dataframe\">\n",
       "  <thead>\n",
       "    <tr style=\"text-align: right;\">\n",
       "      <th></th>\n",
       "      <th>Name</th>\n",
       "      <th>Age</th>\n",
       "      <th>Gender</th>\n",
       "    </tr>\n",
       "  </thead>\n",
       "  <tbody>\n",
       "    <tr>\n",
       "      <th>2</th>\n",
       "      <td>Claire</td>\n",
       "      <td>27</td>\n",
       "      <td>Female</td>\n",
       "    </tr>\n",
       "  </tbody>\n",
       "</table>\n",
       "</div>"
      ],
      "text/plain": [
       "     Name  Age  Gender\n",
       "2  Claire   27  Female"
      ]
     },
     "execution_count": 7,
     "metadata": {},
     "output_type": "execute_result"
    }
   ],
   "source": [
    "df.tail(1)"
   ]
  },
  {
   "cell_type": "code",
   "execution_count": 10,
   "id": "1643b02a-7b6a-46eb-aa1c-35e6e94131e5",
   "metadata": {},
   "outputs": [
    {
     "data": {
      "text/plain": [
       "Name      object\n",
       "Age        int64\n",
       "Gender    object\n",
       "dtype: object"
      ]
     },
     "execution_count": 10,
     "metadata": {},
     "output_type": "execute_result"
    }
   ],
   "source": [
    "df.dtypes"
   ]
  },
  {
   "cell_type": "raw",
   "id": "2de9348a-c435-4f0f-b1d5-043c912fa46c",
   "metadata": {},
   "source": [
    "\n",
    "Q6. Which of the following is mutable in nature Series, DataFrame, Panel?\n",
    "\n",
    "A Series is a one dimensional array like structure with homogeneous dataThe values of the series are mutable means we can change any value in\n",
    "series, but the size of the series is immutable so we can not change the size of the series\n",
    "\n",
    "DataFrame is a two-dimensional array with heterogeneous data. A \n",
    "DataFrame size is mutable and data is also mutable so we can change the data and size of DataFrame at any time\n",
    "\n",
    "The panel is a three-dimensional data structure with heterogeneous data. It is very hard to represent the Panel in a graphical\n",
    "representation. But a Panel can be illustrated as a container of a DataFrame. In Panel Data and size are mutable\n",
    "\n"
   ]
  },
  {
   "cell_type": "code",
   "execution_count": 11,
   "id": "6001ac37-6c70-4c8a-bbda-4d44f57915a1",
   "metadata": {},
   "outputs": [
    {
     "name": "stdout",
     "output_type": "stream",
     "text": [
      "0       phani\n",
      "1       surya\n",
      "2    bhavanya\n",
      "3      suresh\n",
      "4    narayana\n",
      "5     lakshmi\n",
      "dtype: object\n"
     ]
    }
   ],
   "source": [
    "#Q7. Create a DataFrame using multiple Series. Explain with an example.\n",
    "\n",
    "#importing pandas as pd\n",
    "import pandas as pd\n",
    "#creating series uding names\n",
    "names = ['phani','surya','bhavanya','suresh','narayana','lakshmi']\n",
    "#creating series using pd\n",
    "ser = pd.Series(names)\n",
    "#printing series\n",
    "print(ser)"
   ]
  },
  {
   "cell_type": "code",
   "execution_count": null,
   "id": "1f014660-a36f-4de2-87bf-86b54317aa5e",
   "metadata": {},
   "outputs": [],
   "source": []
  }
 ],
 "metadata": {
  "kernelspec": {
   "display_name": "Python 3 (ipykernel)",
   "language": "python",
   "name": "python3"
  },
  "language_info": {
   "codemirror_mode": {
    "name": "ipython",
    "version": 3
   },
   "file_extension": ".py",
   "mimetype": "text/x-python",
   "name": "python",
   "nbconvert_exporter": "python",
   "pygments_lexer": "ipython3",
   "version": "3.10.8"
  }
 },
 "nbformat": 4,
 "nbformat_minor": 5
}
